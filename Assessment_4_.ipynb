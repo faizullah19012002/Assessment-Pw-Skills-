{
  "nbformat": 4,
  "nbformat_minor": 0,
  "metadata": {
    "colab": {
      "provenance": [],
      "authorship_tag": "ABX9TyNvOmYcPDsNfxFHdDIqPVcw",
      "include_colab_link": true
    },
    "kernelspec": {
      "name": "python3",
      "display_name": "Python 3"
    },
    "language_info": {
      "name": "python"
    }
  },
  "cells": [
    {
      "cell_type": "markdown",
      "metadata": {
        "id": "view-in-github",
        "colab_type": "text"
      },
      "source": [
        "<a href=\"https://colab.research.google.com/github/faizullah19012002/Assessment-Pw-Skills-/blob/main/Assessment_4_.ipynb\" target=\"_parent\"><img src=\"https://colab.research.google.com/assets/colab-badge.svg\" alt=\"Open In Colab\"/></a>"
      ]
    },
    {
      "cell_type": "code",
      "execution_count": 10,
      "metadata": {
        "id": "6uvgkNccmDHU"
      },
      "outputs": [],
      "source": [
        "# Print numbers from 1 to 5 using a while loop."
      ]
    },
    {
      "cell_type": "code",
      "source": [
        "i = 1\n",
        "while i <=5:\n",
        "  print(i)\n",
        "  i = i+1"
      ],
      "metadata": {
        "colab": {
          "base_uri": "https://localhost:8080/"
        },
        "id": "1UgMG5PYncZI",
        "outputId": "843f0ee2-99d2-4cac-f40c-f6054b1402aa"
      },
      "execution_count": 2,
      "outputs": [
        {
          "output_type": "stream",
          "name": "stdout",
          "text": [
            "1\n",
            "2\n",
            "3\n",
            "4\n",
            "5\n"
          ]
        }
      ]
    },
    {
      "cell_type": "code",
      "source": [
        "# Calclate the summ of number from 1 to 10 using a while loop.\n"
      ],
      "metadata": {
        "id": "dWezd72cnfPI"
      },
      "execution_count": 3,
      "outputs": []
    },
    {
      "cell_type": "code",
      "source": [
        "sum = 0\n",
        "num = 1\n",
        "while num <= 10 :\n",
        "  sum = num+sum\n",
        "  num = num+1\n",
        "  print(sum)"
      ],
      "metadata": {
        "colab": {
          "base_uri": "https://localhost:8080/"
        },
        "id": "SKOACvlXpoLL",
        "outputId": "a1618639-784e-4b25-eff0-e9695399bd49"
      },
      "execution_count": 13,
      "outputs": [
        {
          "output_type": "stream",
          "name": "stdout",
          "text": [
            "1\n",
            "3\n",
            "6\n",
            "10\n",
            "15\n",
            "21\n",
            "28\n",
            "36\n",
            "45\n",
            "55\n"
          ]
        }
      ]
    },
    {
      "cell_type": "code",
      "source": [
        "# Calclate the factorial of a nmber ing a for loop."
      ],
      "metadata": {
        "id": "S7RuUgYQqV_r"
      },
      "execution_count": 14,
      "outputs": []
    },
    {
      "cell_type": "code",
      "source": [
        "num = 5\n",
        "fact = 1\n",
        "for i in range(1, num+1):\n",
        "  fact = fact*i\n",
        "  print(fact)"
      ],
      "metadata": {
        "colab": {
          "base_uri": "https://localhost:8080/"
        },
        "id": "CRwGJf0trWrz",
        "outputId": "f9fc0bd2-5fe8-4145-a935-0a0cd9316bee"
      },
      "execution_count": 18,
      "outputs": [
        {
          "output_type": "stream",
          "name": "stdout",
          "text": [
            "1\n",
            "2\n",
            "6\n",
            "24\n",
            "120\n"
          ]
        }
      ]
    },
    {
      "cell_type": "code",
      "source": [
        "# Cont the nmber of vowel in a string using a for loop."
      ],
      "metadata": {
        "id": "9AJVsYn3vRs9"
      },
      "execution_count": null,
      "outputs": []
    },
    {
      "cell_type": "code",
      "source": [
        "name = \"PW Skill\"\n",
        "count = 0\n",
        "vowles = (\"a,e,i,o,u,A,E,I,O,U\")\n",
        "for i in name :\n",
        "  if i in vowles:\n",
        "    count = count + 1\n",
        "    print(count)"
      ],
      "metadata": {
        "colab": {
          "base_uri": "https://localhost:8080/"
        },
        "id": "AE09NHjor27H",
        "outputId": "ee5a581b-4726-4d2a-8b38-1ddc62ba3834"
      },
      "execution_count": 24,
      "outputs": [
        {
          "output_type": "stream",
          "name": "stdout",
          "text": [
            "1\n"
          ]
        }
      ]
    },
    {
      "cell_type": "code",
      "source": [
        "# Print a pattern using neted loop."
      ],
      "metadata": {
        "id": "TLHiOqdzuGxi"
      },
      "execution_count": 25,
      "outputs": []
    },
    {
      "cell_type": "code",
      "source": [
        "rows = 5\n",
        "for i in range(1, rows + 1):\n",
        "    for j in range(1, i + 1):\n",
        "      print(\"*\", end=\" \")\n",
        "    print()\n"
      ],
      "metadata": {
        "colab": {
          "base_uri": "https://localhost:8080/"
        },
        "id": "IVtrnwEuvo2U",
        "outputId": "aadf4127-9c17-42fb-fa9a-55c01dcc61a7"
      },
      "execution_count": 26,
      "outputs": [
        {
          "output_type": "stream",
          "name": "stdout",
          "text": [
            "* \n",
            "* * \n",
            "* * * \n",
            "* * * * \n",
            "* * * * * \n"
          ]
        }
      ]
    },
    {
      "cell_type": "code",
      "source": [
        "# Generate a mltiplication table using neted loop."
      ],
      "metadata": {
        "id": "VyYBWP2ZwFJv"
      },
      "execution_count": 27,
      "outputs": []
    },
    {
      "cell_type": "code",
      "source": [
        "size = 5\n",
        "for i in range(1, size + 1):\n",
        "    for j in range(1, size + 1):\n",
        "        product = i * j\n",
        "        print(product, end=\"\\t\")\n",
        "    print()\n"
      ],
      "metadata": {
        "colab": {
          "base_uri": "https://localhost:8080/"
        },
        "id": "Vs64BT11wP6v",
        "outputId": "6103299d-dbec-4f1b-f5c4-e6a7cc9744b7"
      },
      "execution_count": 28,
      "outputs": [
        {
          "output_type": "stream",
          "name": "stdout",
          "text": [
            "1\t2\t3\t4\t5\t\n",
            "2\t4\t6\t8\t10\t\n",
            "3\t6\t9\t12\t15\t\n",
            "4\t8\t12\t16\t20\t\n",
            "5\t10\t15\t20\t25\t\n"
          ]
        }
      ]
    },
    {
      "cell_type": "code",
      "source": [],
      "metadata": {
        "id": "WkgE31AFwwCp"
      },
      "execution_count": null,
      "outputs": []
    }
  ]
}