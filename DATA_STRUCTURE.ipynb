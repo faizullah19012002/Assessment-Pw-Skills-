{
  "nbformat": 4,
  "nbformat_minor": 0,
  "metadata": {
    "colab": {
      "provenance": [],
      "authorship_tag": "ABX9TyPHHpxWd+zD3/khPtGETNmd",
      "include_colab_link": true
    },
    "kernelspec": {
      "name": "python3",
      "display_name": "Python 3"
    },
    "language_info": {
      "name": "python"
    }
  },
  "cells": [
    {
      "cell_type": "markdown",
      "metadata": {
        "id": "view-in-github",
        "colab_type": "text"
      },
      "source": [
        "<a href=\"https://colab.research.google.com/github/faizullah19012002/Assessment-Pw-Skills-/blob/main/DATA_STRUCTURE.ipynb\" target=\"_parent\"><img src=\"https://colab.research.google.com/assets/colab-badge.svg\" alt=\"Open In Colab\"/></a>"
      ]
    },
    {
      "cell_type": "markdown",
      "source": [
        "**Q1 - Why might you choose a deque from the collections module to implement a queue instead of using a regular Python list?**"
      ],
      "metadata": {
        "id": "xx-KXvqUIj9f"
      }
    },
    {
      "cell_type": "markdown",
      "source": [
        "Using a deque from the collections module to implement a queue instead of a regular Python list offers several advantages. A regular Python list can be used to implement a queue, a deque offers better performance characteristics and clearer semantics, especially for applications where efficiency and clarity of intent are important."
      ],
      "metadata": {
        "id": "QCVLrHvkJFqR"
      }
    },
    {
      "cell_type": "markdown",
      "source": [
        " **Q2 - Can you explain a real-world scenario where using a stack would be a more practical choice than a list for data storage and retrieval ?**"
      ],
      "metadata": {
        "id": "4I_gnv4DJWHT"
      }
    },
    {
      "cell_type": "markdown",
      "source": [
        "**Scenario: Undoing Actions in a Notepad App**\n",
        "\n",
        "Imagine you're using a simple notepad application on your computer. You can type text, delete words, and change formatting.\n",
        "\n",
        "Now, let's say you accidentally delete a word or make a mistake while typing, and you want to go back to the way things were before that happened. This is where the \"Undo\" button comes in handy.\n",
        "\n",
        "Example:\n",
        "\n",
        "You open the notepad app and type \"Hello, world!\"\n",
        "\n",
        "The application stores this action in the magical box.\n",
        "\n",
        "Then, you accidentally delete the word \"world.\"\n",
        "\n",
        "The application adds the deletion of \"world\" to the magical box.\n",
        "\n",
        "Now, you realize your mistake and click \"Undo.\"\n",
        "\n",
        "The application looks inside the box and finds the deletion of \"world\" at the top.\n",
        "\n",
        "It then puts \"world\" back into the text where it was before, undoing your mistake."
      ],
      "metadata": {
        "id": "ft79fw7yKjnu"
      }
    },
    {
      "cell_type": "markdown",
      "source": [
        "**Q3 - What is the primary advantage of using sets in Python, and in what type of problem-solving scenarios are they most useful?**"
      ],
      "metadata": {
        "id": "i7Fy1jHULF1O"
      }
    },
    {
      "cell_type": "markdown",
      "source": [
        "\n",
        "The primary advantage of using sets in Python is their ability to efficiently perform membership tests and eliminate duplicate elements. Sets are implemented using hash tables, which provide constant-time average-case complexity for operations like adding, removing, and checking for the presence of an element.Sets are powerful data structures in Python that excel in scenarios involving uniqueness, membership testing, and set-based operations. They provide a convenient and efficient way to work with collections of unique elements, making them indispensable in various problem-solving contexts."
      ],
      "metadata": {
        "id": "h0zMbCNrLbYI"
      }
    },
    {
      "cell_type": "markdown",
      "source": [
        "**Q4 - When might you choose to use an array instead of a list for storing numerical data in Python? What benefits do arrays offer in this context?**"
      ],
      "metadata": {
        "id": "Izq3BE1QMEKU"
      }
    },
    {
      "cell_type": "markdown",
      "source": [
        "In Python, you might choose to use an array instead of a list for storing numerical data in situations where performance and memory efficiency are critical. Arrays offer several benefits in terms of memory efficiency, performance, type safety, and interoperability with numerical libraries, making them a preferred choice for storing numerical data in Python, especially in scenarios where computational efficiency and memory usage are important considerations."
      ],
      "metadata": {
        "id": "jspVf-W8MtKq"
      }
    },
    {
      "cell_type": "markdown",
      "source": [
        "**Q5 - In Python, what's the primary difference between dictionaries and lists, and how does this difference impact their use cases in programming?**"
      ],
      "metadata": {
        "id": "o58mhP5bNgB9"
      }
    },
    {
      "cell_type": "markdown",
      "source": [
        "**Lists :**\n",
        "\n",
        "1. Ordered collections of items accessed by their position (index).\n",
        "2. Use when you need to maintain order or access elements by their position.\n",
        "3. Lists are represented using square brackets [ ].\n",
        "4. They allow duplicate elements, and you can change, add, or remove elements after creation.\n",
        "\n",
        "**Dictionaries:**\n",
        "\n",
        "1. Collections of key-value pairs accessed by their keys.\n",
        "2. Use when you need to associate values with specific identifiers (keys) for efficient retrieval.\n",
        "3. Dictionaries are represented using curly braces { }.\n",
        "4. Each key in a dictionary must be unique, but the values can be duplicated.\n",
        "\n",
        "\n",
        "\n"
      ],
      "metadata": {
        "id": "SxgdNJz7O0l9"
      }
    },
    {
      "cell_type": "code",
      "execution_count": null,
      "metadata": {
        "id": "3g-eRq_mIVub"
      },
      "outputs": [],
      "source": []
    }
  ]
}