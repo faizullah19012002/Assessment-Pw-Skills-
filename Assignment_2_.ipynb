{
  "nbformat": 4,
  "nbformat_minor": 0,
  "metadata": {
    "colab": {
      "provenance": [],
      "authorship_tag": "ABX9TyM7RVeBttJZjpc2YjWiglhF",
      "include_colab_link": true
    },
    "kernelspec": {
      "name": "python3",
      "display_name": "Python 3"
    },
    "language_info": {
      "name": "python"
    }
  },
  "cells": [
    {
      "cell_type": "markdown",
      "metadata": {
        "id": "view-in-github",
        "colab_type": "text"
      },
      "source": [
        "<a href=\"https://colab.research.google.com/github/faizullah19012002/Assessment-Pw-Skills-/blob/main/Assignment_2_.ipynb\" target=\"_parent\"><img src=\"https://colab.research.google.com/assets/colab-badge.svg\" alt=\"Open In Colab\"/></a>"
      ]
    },
    {
      "cell_type": "code",
      "execution_count": null,
      "metadata": {
        "id": "RwxdCe8yI61Y"
      },
      "outputs": [],
      "source": [
        "# Calculate the sum diffrence product and quotient of two numbers"
      ]
    },
    {
      "cell_type": "code",
      "source": [
        "a = 5\n",
        "b = 10"
      ],
      "metadata": {
        "id": "aJ2yajnTJZDk"
      },
      "execution_count": null,
      "outputs": []
    },
    {
      "cell_type": "code",
      "source": [
        "a+b"
      ],
      "metadata": {
        "colab": {
          "base_uri": "https://localhost:8080/"
        },
        "id": "MbfPvP7DJeUu",
        "outputId": "9ccb16da-104e-43a4-b1e7-0c45818a0a14"
      },
      "execution_count": null,
      "outputs": [
        {
          "output_type": "execute_result",
          "data": {
            "text/plain": [
              "15"
            ]
          },
          "metadata": {},
          "execution_count": 3
        }
      ]
    },
    {
      "cell_type": "code",
      "source": [
        "a-b"
      ],
      "metadata": {
        "colab": {
          "base_uri": "https://localhost:8080/"
        },
        "id": "pmyuCa6IJgWR",
        "outputId": "ac92d189-3332-4232-d78b-767c10c31e55"
      },
      "execution_count": null,
      "outputs": [
        {
          "output_type": "execute_result",
          "data": {
            "text/plain": [
              "-5"
            ]
          },
          "metadata": {},
          "execution_count": 5
        }
      ]
    },
    {
      "cell_type": "code",
      "source": [
        "a*b"
      ],
      "metadata": {
        "colab": {
          "base_uri": "https://localhost:8080/"
        },
        "id": "daVWQRUYJhT5",
        "outputId": "278aa81b-2ea9-4afa-8af2-eb3691c4ee2b"
      },
      "execution_count": null,
      "outputs": [
        {
          "output_type": "execute_result",
          "data": {
            "text/plain": [
              "50"
            ]
          },
          "metadata": {},
          "execution_count": 6
        }
      ]
    },
    {
      "cell_type": "code",
      "source": [
        "a/b"
      ],
      "metadata": {
        "colab": {
          "base_uri": "https://localhost:8080/"
        },
        "id": "kWFcasEJJlWX",
        "outputId": "08858165-f2e6-4d12-b7f2-e65309e4ffe9"
      },
      "execution_count": null,
      "outputs": [
        {
          "output_type": "execute_result",
          "data": {
            "text/plain": [
              "0.5"
            ]
          },
          "metadata": {},
          "execution_count": 7
        }
      ]
    },
    {
      "cell_type": "code",
      "source": [
        "# Perform various Assignment operations on a variable"
      ],
      "metadata": {
        "id": "PNEACHWPJmsr"
      },
      "execution_count": null,
      "outputs": []
    },
    {
      "cell_type": "code",
      "source": [
        "v = 5\n",
        "print(\"variable assignment integer \" , v)"
      ],
      "metadata": {
        "colab": {
          "base_uri": "https://localhost:8080/"
        },
        "id": "zchLME8XJxfH",
        "outputId": "92fe299e-bd9d-4f66-a0a6-c207762e55dd"
      },
      "execution_count": null,
      "outputs": [
        {
          "output_type": "stream",
          "name": "stdout",
          "text": [
            "variable assignment integer  5\n"
          ]
        }
      ]
    },
    {
      "cell_type": "code",
      "source": [
        "v = 3.14\n",
        "print(\"varible assignment float\", v)"
      ],
      "metadata": {
        "colab": {
          "base_uri": "https://localhost:8080/"
        },
        "id": "XEYdWtjpKgjw",
        "outputId": "0ed4237f-2e7d-4ee8-9759-6ea8cc54307e"
      },
      "execution_count": null,
      "outputs": [
        {
          "output_type": "stream",
          "name": "stdout",
          "text": [
            "varible assignment float 3.14\n"
          ]
        }
      ]
    },
    {
      "cell_type": "code",
      "source": [
        "v = \"string\"\n",
        "print(\"variable assignment string\", v)"
      ],
      "metadata": {
        "colab": {
          "base_uri": "https://localhost:8080/"
        },
        "id": "8rElVjqRK27f",
        "outputId": "498eac14-9c29-471e-aa8b-36dd437ae04d"
      },
      "execution_count": null,
      "outputs": [
        {
          "output_type": "stream",
          "name": "stdout",
          "text": [
            "variable assignment string string\n"
          ]
        }
      ]
    },
    {
      "cell_type": "code",
      "source": [
        "v = True\n",
        "print(\"variable assignment boolean\", v)"
      ],
      "metadata": {
        "colab": {
          "base_uri": "https://localhost:8080/"
        },
        "id": "xSmq0H7pLGsu",
        "outputId": "e5a9880b-74ef-4241-fd5c-2fcf65872079"
      },
      "execution_count": null,
      "outputs": [
        {
          "output_type": "stream",
          "name": "stdout",
          "text": [
            "variable assignment boolean True\n"
          ]
        }
      ]
    },
    {
      "cell_type": "code",
      "source": [
        "# Compare two numbers and print"
      ],
      "metadata": {
        "id": "pDsKFlIwLYLw"
      },
      "execution_count": null,
      "outputs": []
    },
    {
      "cell_type": "code",
      "source": [
        "x = 5\n",
        "y = 10\n",
        "if x<=y :\n",
        "  print(\"X is smaller than Y\",)\n",
        "else:\n",
        "  print(\"X is greater than Y\")"
      ],
      "metadata": {
        "colab": {
          "base_uri": "https://localhost:8080/"
        },
        "id": "eLYHimr0L1e6",
        "outputId": "a06f7223-49c8-4a11-d575-25c05410e4ea"
      },
      "execution_count": null,
      "outputs": [
        {
          "output_type": "stream",
          "name": "stdout",
          "text": [
            "X is smaller than Y\n"
          ]
        }
      ]
    },
    {
      "cell_type": "code",
      "source": [
        "# Check condition using logical operator"
      ],
      "metadata": {
        "id": "abcfF6bcNXRb"
      },
      "execution_count": null,
      "outputs": []
    },
    {
      "cell_type": "code",
      "source": [
        "x,y\n",
        "z = 15"
      ],
      "metadata": {
        "id": "isAti7HPN1m9"
      },
      "execution_count": null,
      "outputs": []
    },
    {
      "cell_type": "code",
      "source": [
        "x,y,z\n"
      ],
      "metadata": {
        "colab": {
          "base_uri": "https://localhost:8080/"
        },
        "id": "DIoL8AS0Pdrh",
        "outputId": "2a6bf4a5-833b-49bf-a95b-436f4c2c62ae"
      },
      "execution_count": null,
      "outputs": [
        {
          "output_type": "execute_result",
          "data": {
            "text/plain": [
              "(5, 10, 15)"
            ]
          },
          "metadata": {},
          "execution_count": 35
        }
      ]
    },
    {
      "cell_type": "code",
      "source": [
        "if z >= y and y >= x:\n",
        "  print(\"this is true\")\n",
        "else :\n",
        "  print(\"this is wrong\")"
      ],
      "metadata": {
        "colab": {
          "base_uri": "https://localhost:8080/"
        },
        "id": "__UXhz6rOnkd",
        "outputId": "7e3f62ed-ef28-4ce6-fda5-50b91414eb00"
      },
      "execution_count": null,
      "outputs": [
        {
          "output_type": "stream",
          "name": "stdout",
          "text": [
            "this is true\n"
          ]
        }
      ]
    },
    {
      "cell_type": "code",
      "source": [
        "if z >= y or y <= x:\n",
        "  print(\"this is true\")\n",
        "else :\n",
        "  print(\"this is wrong\")"
      ],
      "metadata": {
        "colab": {
          "base_uri": "https://localhost:8080/"
        },
        "id": "vCgwQQdUO8gi",
        "outputId": "a6f4f216-5365-4eb0-a7ab-e035b41f7c81"
      },
      "execution_count": null,
      "outputs": [
        {
          "output_type": "stream",
          "name": "stdout",
          "text": [
            "this is true\n"
          ]
        }
      ]
    },
    {
      "cell_type": "code",
      "source": [
        "# Check the identity of variables\n"
      ],
      "metadata": {
        "id": "Ke1dTspBP1Kl"
      },
      "execution_count": null,
      "outputs": []
    },
    {
      "cell_type": "code",
      "source": [
        "x = 5\n",
        "y = 10\n",
        "z = 5\n"
      ],
      "metadata": {
        "id": "-GDF1cmJQiAO"
      },
      "execution_count": null,
      "outputs": []
    },
    {
      "cell_type": "code",
      "source": [
        "if id(x) == id(y):\n",
        "  print(\"X and Y are same\")\n",
        "elif id(x) == id(z):\n",
        "  print(\"X and Z are same\")\n",
        "else:\n",
        "  print(\"X Y Z are not common\")"
      ],
      "metadata": {
        "colab": {
          "base_uri": "https://localhost:8080/"
        },
        "id": "bhjGcEVzQ6oU",
        "outputId": "659b5cb4-f38b-4ad4-f815-c2510f18df0a"
      },
      "execution_count": null,
      "outputs": [
        {
          "output_type": "stream",
          "name": "stdout",
          "text": [
            "X and Z are same\n"
          ]
        }
      ]
    },
    {
      "cell_type": "code",
      "source": [
        "# using bitwise operator\n",
        "f = 0b1010\n",
        "g = 0b1100\n",
        "h = f&g\n"
      ],
      "metadata": {
        "id": "bswjDYCERnK7"
      },
      "execution_count": 61,
      "outputs": []
    },
    {
      "cell_type": "code",
      "source": [
        "h"
      ],
      "metadata": {
        "colab": {
          "base_uri": "https://localhost:8080/",
          "height": 36
        },
        "id": "mWGF8UjJXO6a",
        "outputId": "f3d57479-eff0-4994-a0e0-7e3c92624376"
      },
      "execution_count": 67,
      "outputs": [
        {
          "output_type": "execute_result",
          "data": {
            "text/plain": [
              "'0b1000'"
            ],
            "application/vnd.google.colaboratory.intrinsic+json": {
              "type": "string"
            }
          },
          "metadata": {},
          "execution_count": 67
        }
      ]
    },
    {
      "cell_type": "code",
      "source": [
        "f = 0b1010\n",
        "g = 0b1100\n",
        "h = f|g"
      ],
      "metadata": {
        "id": "nhQqg6NoX_ox"
      },
      "execution_count": 68,
      "outputs": []
    },
    {
      "cell_type": "code",
      "source": [
        "h = bin(h)"
      ],
      "metadata": {
        "id": "bNY95FXhYob3"
      },
      "execution_count": 72,
      "outputs": []
    },
    {
      "cell_type": "code",
      "source": [
        "h"
      ],
      "metadata": {
        "colab": {
          "base_uri": "https://localhost:8080/",
          "height": 36
        },
        "id": "uq81I4iAYzyp",
        "outputId": "380d412e-57de-4e97-ead8-20fdb29e1255"
      },
      "execution_count": 73,
      "outputs": [
        {
          "output_type": "execute_result",
          "data": {
            "text/plain": [
              "'0b1110'"
            ],
            "application/vnd.google.colaboratory.intrinsic+json": {
              "type": "string"
            }
          },
          "metadata": {},
          "execution_count": 73
        }
      ]
    },
    {
      "cell_type": "code",
      "source": [
        "f = 0b1010\n",
        "g = 0b1100\n",
        "h = f^g"
      ],
      "metadata": {
        "id": "YwWeNfXJY1FJ"
      },
      "execution_count": 74,
      "outputs": []
    },
    {
      "cell_type": "code",
      "source": [
        "h"
      ],
      "metadata": {
        "colab": {
          "base_uri": "https://localhost:8080/"
        },
        "id": "FJy8oR5MZLts",
        "outputId": "31f1c5cb-713d-4b72-e973-bc1848eefbf5"
      },
      "execution_count": 75,
      "outputs": [
        {
          "output_type": "execute_result",
          "data": {
            "text/plain": [
              "6"
            ]
          },
          "metadata": {},
          "execution_count": 75
        }
      ]
    },
    {
      "cell_type": "code",
      "source": [
        "h = bin(h)"
      ],
      "metadata": {
        "id": "qRyZDBZ2ZMv0"
      },
      "execution_count": 76,
      "outputs": []
    },
    {
      "cell_type": "code",
      "source": [
        "h"
      ],
      "metadata": {
        "colab": {
          "base_uri": "https://localhost:8080/",
          "height": 36
        },
        "id": "K0nLwEO_ZP4b",
        "outputId": "75125584-46c2-406e-859f-71b7a750252e"
      },
      "execution_count": 77,
      "outputs": [
        {
          "output_type": "execute_result",
          "data": {
            "text/plain": [
              "'0b110'"
            ],
            "application/vnd.google.colaboratory.intrinsic+json": {
              "type": "string"
            }
          },
          "metadata": {},
          "execution_count": 77
        }
      ]
    },
    {
      "cell_type": "code",
      "source": [
        "# Use unary operators to change the sign of a number."
      ],
      "metadata": {
        "id": "RhIwm_ZaZQ3f"
      },
      "execution_count": 78,
      "outputs": []
    },
    {
      "cell_type": "code",
      "source": [
        "x = +5\n",
        "y = not x"
      ],
      "metadata": {
        "id": "R9cQ6G5qZ60A"
      },
      "execution_count": 79,
      "outputs": []
    },
    {
      "cell_type": "code",
      "source": [
        "y"
      ],
      "metadata": {
        "colab": {
          "base_uri": "https://localhost:8080/"
        },
        "id": "R58A5F7waELE",
        "outputId": "f5c2b6e2-5d0e-4bed-e137-7ab7895292db"
      },
      "execution_count": 80,
      "outputs": [
        {
          "output_type": "execute_result",
          "data": {
            "text/plain": [
              "False"
            ]
          },
          "metadata": {},
          "execution_count": 80
        }
      ]
    },
    {
      "cell_type": "code",
      "source": [
        "# Use the ternary operator to assign values based on conditions."
      ],
      "metadata": {
        "id": "il0dRuAGaFM2"
      },
      "execution_count": 82,
      "outputs": []
    },
    {
      "cell_type": "code",
      "source": [
        "a = 5\n",
        "b = 10\n",
        "\n",
        "result = \"a is greater than b\" if a > b else (\"a is equal to b\" if a == b else \"a is less than b\")\n",
        "print(result)\n"
      ],
      "metadata": {
        "colab": {
          "base_uri": "https://localhost:8080/"
        },
        "id": "gQKNPbx_bI6R",
        "outputId": "26910d95-a895-4221-fe93-c4e7662ed877"
      },
      "execution_count": 83,
      "outputs": [
        {
          "output_type": "stream",
          "name": "stdout",
          "text": [
            "a is less than b\n"
          ]
        }
      ]
    },
    {
      "cell_type": "code",
      "source": [],
      "metadata": {
        "id": "BHcmLTwKbRRc"
      },
      "execution_count": null,
      "outputs": []
    }
  ]
}