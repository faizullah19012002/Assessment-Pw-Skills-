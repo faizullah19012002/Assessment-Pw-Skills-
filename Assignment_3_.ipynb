{
  "nbformat": 4,
  "nbformat_minor": 0,
  "metadata": {
    "colab": {
      "provenance": [],
      "authorship_tag": "ABX9TyNXj0pUl50NXSzUKTeiloVz",
      "include_colab_link": true
    },
    "kernelspec": {
      "name": "python3",
      "display_name": "Python 3"
    },
    "language_info": {
      "name": "python"
    }
  },
  "cells": [
    {
      "cell_type": "markdown",
      "metadata": {
        "id": "view-in-github",
        "colab_type": "text"
      },
      "source": [
        "<a href=\"https://colab.research.google.com/github/faizullah19012002/Assessment-Pw-Skills-/blob/main/Assignment_3_.ipynb\" target=\"_parent\"><img src=\"https://colab.research.google.com/assets/colab-badge.svg\" alt=\"Open In Colab\"/></a>"
      ]
    },
    {
      "cell_type": "code",
      "execution_count": 1,
      "metadata": {
        "id": "QWOws4YKcXDr"
      },
      "outputs": [],
      "source": [
        "# Explain the significance of Python keywords and provide examples of five keywords."
      ]
    },
    {
      "cell_type": "markdown",
      "source": [
        "Python keywords are reserved words that have special meanings and purposes in the Python programming language. These keywords cannot be used as identifiers for example variable names or function names because they are already reserved for specific functionalities within the language. Some keywords are print, len, type, if, else, elif.\n"
      ],
      "metadata": {
        "id": "FrAyTpuwcri2"
      }
    },
    {
      "cell_type": "code",
      "source": [
        "x= 5\n",
        "y = 10"
      ],
      "metadata": {
        "id": "zLuQiicAcufU"
      },
      "execution_count": 2,
      "outputs": []
    },
    {
      "cell_type": "code",
      "source": [
        "if x <= y :\n",
        "  print(\"X is smaller than Y\")\n",
        "elif x >= y :\n",
        "  print(\"X is greater than Y\")\n",
        "else:\n",
        "  print(\"X is equal to Y\")"
      ],
      "metadata": {
        "colab": {
          "base_uri": "https://localhost:8080/"
        },
        "id": "mDkWFrGbdxAk",
        "outputId": "0f0ae0d3-c23c-44c5-bda4-65168a641b91"
      },
      "execution_count": 7,
      "outputs": [
        {
          "output_type": "stream",
          "name": "stdout",
          "text": [
            "X is smaller than Y\n"
          ]
        }
      ]
    },
    {
      "cell_type": "code",
      "source": [
        "print(x,y)"
      ],
      "metadata": {
        "colab": {
          "base_uri": "https://localhost:8080/"
        },
        "id": "XuL0aTpReX58",
        "outputId": "25cc636e-7b93-4954-a6d7-28c2d233b619"
      },
      "execution_count": 8,
      "outputs": [
        {
          "output_type": "stream",
          "name": "stdout",
          "text": [
            "5 10\n"
          ]
        }
      ]
    },
    {
      "cell_type": "code",
      "source": [
        "# Describe the rules for defining identifiers in Python and provide an example"
      ],
      "metadata": {
        "id": "oI9QjMLNfTfo"
      },
      "execution_count": null,
      "outputs": []
    },
    {
      "cell_type": "markdown",
      "source": [
        "In Python, identifiers are names given to variables, functions, classes, modules, or any other objects. Identifiers help developers reference and manipulate these entities within their code. The rules for identifires are :\n",
        "\n",
        "1. Cannot start with a numeric number.\n",
        "2. Use only Alphabet or Underscore.\n",
        "3. Should not use reserve keywords.\n",
        "4. Variables are case sensitive so keep it in mind."
      ],
      "metadata": {
        "id": "hK5FRSmifQly"
      }
    },
    {
      "cell_type": "code",
      "source": [
        "Name = \"Faizullah Khan\""
      ],
      "metadata": {
        "id": "CGw6_uKxeqTZ"
      },
      "execution_count": 9,
      "outputs": []
    },
    {
      "cell_type": "code",
      "source": [
        "# What are comments in Python, and why are they useful? Provide an example"
      ],
      "metadata": {
        "id": "UB3BT6h3g5vt"
      },
      "execution_count": null,
      "outputs": []
    },
    {
      "cell_type": "markdown",
      "source": [
        "Comments in Python are lines of text in a program that are ignored by the Python interpreter during execution. They are used to provide explanatory notes, documentation, or reminders within the code. Comments help improve code readability, aid in understanding the code's logic, and facilitate collaboration among developers."
      ],
      "metadata": {
        "id": "a2rNJGpLg9ZD"
      }
    },
    {
      "cell_type": "code",
      "source": [
        "# Calculate the sum of two numbers\n",
        "a = 10  # Assigning value 10 to variable 'a'\n",
        "b = 20  # Assigning value 20 to variable 'b'\n",
        "sum = a + b  # Adding variables 'a' and 'b' to calculate the sum\n",
        "\n",
        "# Print the result\n",
        "print(\"The sum of 10 and 20 is=\", sum)  # Printing the result\n"
      ],
      "metadata": {
        "colab": {
          "base_uri": "https://localhost:8080/"
        },
        "id": "a5cLYDbIgeix",
        "outputId": "3b7a4bfe-f0ef-4d34-d410-f915fbdc9a96"
      },
      "execution_count": 12,
      "outputs": [
        {
          "output_type": "stream",
          "name": "stdout",
          "text": [
            "The sum of 10 and 20 is= 30\n"
          ]
        }
      ]
    },
    {
      "cell_type": "code",
      "source": [
        "# Why is proper indentation important in Python?"
      ],
      "metadata": {
        "id": "lkC66kXMhPqt"
      },
      "execution_count": null,
      "outputs": []
    },
    {
      "cell_type": "markdown",
      "source": [
        "Proper indentation is crucial in Python because it defines the structure and hierarchy of code blocks within the program. Unlike many other programming languages that use curly braces or keywords to denote block structures, Python uses indentation to delimit blocks of code."
      ],
      "metadata": {
        "id": "Kiqq2Jt7hvfn"
      }
    },
    {
      "cell_type": "code",
      "source": [
        "# What happens if indentation is incorrect in Python?"
      ],
      "metadata": {
        "id": "P0GIsVxbiVUf"
      },
      "execution_count": 13,
      "outputs": []
    },
    {
      "cell_type": "markdown",
      "source": [
        "If the indentation is incorrect in Python, it can lead to various issues, including syntax errors and logical errors. Python relies on indentation to define the structure and hierarchy of code blocks, such as loops, conditionals, and function definitions. Therefore, incorrect indentation can cause the interpreter to misinterpret the code's logic, resulting in unexpected behavior or errors"
      ],
      "metadata": {
        "id": "T944QqV9iQRz"
      }
    },
    {
      "cell_type": "code",
      "source": [
        "# Differentiate 0etween expression and statement in Python with examples."
      ],
      "metadata": {
        "id": "JEXWvy0-h61y"
      },
      "execution_count": 14,
      "outputs": []
    },
    {
      "cell_type": "markdown",
      "source": [
        "Statement: Statement are the compelet line of code which is written by any coder,It may or may not produce a value.\n",
        "Statements typically represent a complete instruction or command that Python can execute.\n",
        "\n",
        "Expression : Expressions are the part of statements which is are combination of values, variables, operators, and function calls that results in a single value.\n",
        "Expressions can be simple or complex, but they always evaluate to a value."
      ],
      "metadata": {
        "id": "KyjAap1sjJS1"
      }
    },
    {
      "cell_type": "code",
      "source": [
        "x = 5 #Expression\n",
        "y = 10 #Expression\n",
        "z = x+y #Expression\n",
        "if x <= y: #statement\n",
        "  print(z) # statement"
      ],
      "metadata": {
        "colab": {
          "base_uri": "https://localhost:8080/"
        },
        "id": "phZbVqRWjFi1",
        "outputId": "14826780-a46d-40b4-e5a3-9d85df707d66"
      },
      "execution_count": 17,
      "outputs": [
        {
          "output_type": "stream",
          "name": "stdout",
          "text": [
            "15\n"
          ]
        }
      ]
    },
    {
      "cell_type": "code",
      "source": [],
      "metadata": {
        "id": "97ZEvGzekTWv"
      },
      "execution_count": null,
      "outputs": []
    }
  ]
}