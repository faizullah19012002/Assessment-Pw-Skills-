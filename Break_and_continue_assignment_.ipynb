{
  "nbformat": 4,
  "nbformat_minor": 0,
  "metadata": {
    "colab": {
      "provenance": [],
      "authorship_tag": "ABX9TyOw82VFK8rZ2xSHR+4piolT",
      "include_colab_link": true
    },
    "kernelspec": {
      "name": "python3",
      "display_name": "Python 3"
    },
    "language_info": {
      "name": "python"
    }
  },
  "cells": [
    {
      "cell_type": "markdown",
      "metadata": {
        "id": "view-in-github",
        "colab_type": "text"
      },
      "source": [
        "<a href=\"https://colab.research.google.com/github/faizullah19012002/Assessment-Pw-Skills-/blob/main/Break_and_continue_assignment_.ipynb\" target=\"_parent\"><img src=\"https://colab.research.google.com/assets/colab-badge.svg\" alt=\"Open In Colab\"/></a>"
      ]
    },
    {
      "cell_type": "markdown",
      "source": [
        "1. Write a program to print numbers from 1 to 10, but stop if the number is 5."
      ],
      "metadata": {
        "id": "ywJWlV4CDc8c"
      }
    },
    {
      "cell_type": "code",
      "execution_count": 1,
      "metadata": {
        "colab": {
          "base_uri": "https://localhost:8080/"
        },
        "id": "_AjjQhxmDQbY",
        "outputId": "2dd1e8d0-8db6-4cd5-98a0-a02e425b4951"
      },
      "outputs": [
        {
          "output_type": "stream",
          "name": "stdout",
          "text": [
            "1\n",
            "2\n",
            "3\n",
            "4\n"
          ]
        }
      ],
      "source": [
        "for i in range(1,11):\n",
        "  if i == 5:\n",
        "    break\n",
        "  print(i)"
      ]
    },
    {
      "cell_type": "markdown",
      "source": [
        "2. Write a program to iterate through a list and stop when encountering a specific element."
      ],
      "metadata": {
        "id": "ekL89Kf-Dj28"
      }
    },
    {
      "cell_type": "code",
      "source": [
        "l = [1,2,3,\"faiz\", \"pwskills\"]\n",
        "\n",
        "for i in l:\n",
        "  if i == \"faiz\":\n",
        "    break\n",
        "  print(i)"
      ],
      "metadata": {
        "colab": {
          "base_uri": "https://localhost:8080/"
        },
        "id": "mpybAuWkDhaI",
        "outputId": "9535ff61-aef2-4c57-f2ef-3e89d2bbcdbd"
      },
      "execution_count": 2,
      "outputs": [
        {
          "output_type": "stream",
          "name": "stdout",
          "text": [
            "1\n",
            "2\n",
            "3\n"
          ]
        }
      ]
    },
    {
      "cell_type": "markdown",
      "source": [
        "3. Write a program to skip printing even numbers from 1 to 10."
      ],
      "metadata": {
        "id": "6-6SfJ5hDpLX"
      }
    },
    {
      "cell_type": "code",
      "source": [
        "for i in range(1,10,2):\n",
        "  print(i)"
      ],
      "metadata": {
        "colab": {
          "base_uri": "https://localhost:8080/"
        },
        "id": "mEQl2e0wDn8W",
        "outputId": "f1d00f93-180f-41d7-f8ab-fab30b1a2f69"
      },
      "execution_count": 3,
      "outputs": [
        {
          "output_type": "stream",
          "name": "stdout",
          "text": [
            "1\n",
            "3\n",
            "5\n",
            "7\n",
            "9\n"
          ]
        }
      ]
    },
    {
      "cell_type": "markdown",
      "source": [
        "4. Write a program to print numbers from 0 to 9 using range()."
      ],
      "metadata": {
        "id": "etVUFEHWD5MR"
      }
    },
    {
      "cell_type": "code",
      "source": [
        "for i in range(10):\n",
        "  print(i)"
      ],
      "metadata": {
        "colab": {
          "base_uri": "https://localhost:8080/"
        },
        "id": "AHBZoCNmD1PV",
        "outputId": "da8d5888-e3a0-4f8d-9417-72093fd077f5"
      },
      "execution_count": 4,
      "outputs": [
        {
          "output_type": "stream",
          "name": "stdout",
          "text": [
            "0\n",
            "1\n",
            "2\n",
            "3\n",
            "4\n",
            "5\n",
            "6\n",
            "7\n",
            "8\n",
            "9\n"
          ]
        }
      ]
    },
    {
      "cell_type": "markdown",
      "source": [
        "5. Write a program to print multiplication tables from 1 to 5, but stop after the first table is printed for each\n",
        "number."
      ],
      "metadata": {
        "id": "1Jw1HnovEEeT"
      }
    },
    {
      "cell_type": "code",
      "source": [
        "table = 1\n",
        "while table <= 5:\n",
        "  print(\"table of : \", table)\n",
        "\n",
        "  count = 1\n",
        "  while count <= 10:\n",
        "    if count >= 2:\n",
        "      break\n",
        "    print(table, \"x\", count, \"=\", table*count)\n",
        "    count = count+1\n",
        "    table = table + 1"
      ],
      "metadata": {
        "colab": {
          "base_uri": "https://localhost:8080/"
        },
        "id": "MMCC1LGNEAg7",
        "outputId": "eb2553b2-7a54-48f8-ebbd-f43ea4d015cd"
      },
      "execution_count": 5,
      "outputs": [
        {
          "output_type": "stream",
          "name": "stdout",
          "text": [
            "table of :  1\n",
            "1 x 1 = 1\n",
            "table of :  2\n",
            "2 x 1 = 2\n",
            "table of :  3\n",
            "3 x 1 = 3\n",
            "table of :  4\n",
            "4 x 1 = 4\n",
            "table of :  5\n",
            "5 x 1 = 5\n"
          ]
        }
      ]
    },
    {
      "cell_type": "markdown",
      "source": [
        "6. Write a program to skip printing even numbers using a while loop."
      ],
      "metadata": {
        "id": "OVknR7nREMXA"
      }
    },
    {
      "cell_type": "code",
      "source": [
        "count = 1\n",
        "while count <=20:\n",
        "  print(\"Odd number : \", count)\n",
        "  count = count+2"
      ],
      "metadata": {
        "colab": {
          "base_uri": "https://localhost:8080/"
        },
        "id": "mw8s_z4bEINE",
        "outputId": "74f63859-93a0-47ee-9c68-67c58e2fe41c"
      },
      "execution_count": 6,
      "outputs": [
        {
          "output_type": "stream",
          "name": "stdout",
          "text": [
            "Odd number :  1\n",
            "Odd number :  3\n",
            "Odd number :  5\n",
            "Odd number :  7\n",
            "Odd number :  9\n",
            "Odd number :  11\n",
            "Odd number :  13\n",
            "Odd number :  15\n",
            "Odd number :  17\n",
            "Odd number :  19\n"
          ]
        }
      ]
    },
    {
      "cell_type": "code",
      "source": [],
      "metadata": {
        "id": "lJPH1yFUEThA"
      },
      "execution_count": null,
      "outputs": []
    }
  ]
}